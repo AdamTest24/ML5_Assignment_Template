{
 "cells": [
  {
   "cell_type": "markdown",
   "id": "e55ebb43",
   "metadata": {},
   "source": [
    "## L2D Assignment - Machine Learning 5:"
   ]
  },
  {
   "cell_type": "markdown",
   "id": "a49d1f7a",
   "metadata": {},
   "source": [
    "This notebook contains your assignment questions for the Clustering Images  lesson. Please attempt and complete all questions. The topics this assignment will assess are:\n",
    "\n",
    "1. Clustering Images\n",
    "\n",
    "\n",
    "When you have completed your assignment, please commit the changes to your GitHub repository's 'Assignments' folder, as instructed in the [Assignments section](https://learntodiscover.github.io/L2D-Handbook/section7.html) of the [L2D Handbook](https://learntodiscover.github.io/L2D-Handbook).\n"
   ]
  },
  {
   "cell_type": "markdown",
   "id": "20ae7029",
   "metadata": {},
   "source": [
    "In this assignment, we ask you to use the same set of images as in the work- through example described in the lesson. However, instead of GMM, we want you to try a different clustering method called __KMeans__. The documentation for KMneans is available here: https://scikit-learn.org/stable/modules/generated/sklearn.cluster.KMeans.html. Some examples of how kmeans clustering can go wrong are shown in [this example code](https://scikit-learn.org/stable/auto_examples/cluster/plot_kmeans_assumptions.html#sphx-glr-auto-examples-cluster-plot-kmeans-assumptions-py).\n",
    "\n",
    "\n",
    "Using `KMeans` from 'sklearn.cluster', do the following tasks:\n"
   ]
  },
  {
   "cell_type": "code",
   "execution_count": 1,
   "id": "7cc07a78",
   "metadata": {},
   "outputs": [],
   "source": [
    "from numpy import zeros, sum, stack\n",
    "import nibabel as nib\n",
    "from matplotlib.pyplot import subplots, tight_layout, show\n",
    "from sklearn.cluster import KMeans"
   ]
  },
  {
   "cell_type": "markdown",
   "id": "1e7bacc2",
   "metadata": {},
   "source": [
    "1. Investigate different numbers of clusters, similarly to what we did in th work through example.\n",
    "\n",
    "2. Use different combinations of the 4 images to see how the clustering performs in different cases."
   ]
  },
  {
   "cell_type": "code",
   "execution_count": null,
   "id": "6752060c",
   "metadata": {},
   "outputs": [],
   "source": []
  },
  {
   "cell_type": "code",
   "execution_count": null,
   "id": "920d4651",
   "metadata": {},
   "outputs": [],
   "source": []
  },
  {
   "cell_type": "code",
   "execution_count": null,
   "id": "393d25cf",
   "metadata": {},
   "outputs": [],
   "source": []
  },
  {
   "cell_type": "markdown",
   "id": "ed278372",
   "metadata": {},
   "source": [
    "3. The labelled results using all four images may not look as clean as the ones in the work-through example. Try scaling the images e.g. using the sklearn standard scaler, and combining the scaled images. Do the results change? If yes, explore and comment on why you think scaling may be advantageous in this clustering example."
   ]
  },
  {
   "cell_type": "code",
   "execution_count": null,
   "id": "9ee3a837",
   "metadata": {},
   "outputs": [],
   "source": []
  },
  {
   "cell_type": "code",
   "execution_count": null,
   "id": "9f9188b4",
   "metadata": {},
   "outputs": [],
   "source": []
  },
  {
   "cell_type": "code",
   "execution_count": null,
   "id": "99abd786",
   "metadata": {},
   "outputs": [],
   "source": []
  },
  {
   "cell_type": "markdown",
   "id": "8d953984",
   "metadata": {},
   "source": [
    "4. Compare the behaviour of `KMeans` to the outcome with `GaussianMixture`."
   ]
  }
 ],
 "metadata": {
  "kernelspec": {
   "display_name": "Python 3 (ipykernel)",
   "language": "python",
   "name": "python3"
  },
  "language_info": {
   "codemirror_mode": {
    "name": "ipython",
    "version": 3
   },
   "file_extension": ".py",
   "mimetype": "text/x-python",
   "name": "python",
   "nbconvert_exporter": "python",
   "pygments_lexer": "ipython3",
   "version": "3.13.0"
  }
 },
 "nbformat": 4,
 "nbformat_minor": 5
}
